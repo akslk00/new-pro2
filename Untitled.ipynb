{
 "cells": [
  {
   "cell_type": "code",
   "execution_count": 1,
   "id": "24a1d693",
   "metadata": {},
   "outputs": [],
   "source": [
    "import pandas as pd"
   ]
  },
  {
   "cell_type": "code",
   "execution_count": null,
   "id": "a90c91de",
   "metadata": {},
   "outputs": [],
   "source": []
  },
  {
   "cell_type": "code",
   "execution_count": 4,
   "id": "652ee0d0",
   "metadata": {},
   "outputs": [],
   "source": [
    "df=pd.read_csv('./data/incheon.csv',index_col=0, encoding='cp949')"
   ]
  },
  {
   "cell_type": "code",
   "execution_count": 5,
   "id": "5ce5cceb",
   "metadata": {},
   "outputs": [
    {
     "data": {
      "text/html": [
       "<div>\n",
       "<style scoped>\n",
       "    .dataframe tbody tr th:only-of-type {\n",
       "        vertical-align: middle;\n",
       "    }\n",
       "\n",
       "    .dataframe tbody tr th {\n",
       "        vertical-align: top;\n",
       "    }\n",
       "\n",
       "    .dataframe thead th {\n",
       "        text-align: right;\n",
       "    }\n",
       "</style>\n",
       "<table border=\"1\" class=\"dataframe\">\n",
       "  <thead>\n",
       "    <tr style=\"text-align: right;\">\n",
       "      <th></th>\n",
       "      <th>군구명</th>\n",
       "      <th>병원종별</th>\n",
       "      <th>의료기관명</th>\n",
       "      <th>소재지</th>\n",
       "      <th>병실수</th>\n",
       "      <th>병상수</th>\n",
       "      <th>진료과목</th>\n",
       "      <th>Unnamed: 8</th>\n",
       "    </tr>\n",
       "    <tr>\n",
       "      <th>연번</th>\n",
       "      <th></th>\n",
       "      <th></th>\n",
       "      <th></th>\n",
       "      <th></th>\n",
       "      <th></th>\n",
       "      <th></th>\n",
       "      <th></th>\n",
       "      <th></th>\n",
       "    </tr>\n",
       "  </thead>\n",
       "  <tbody>\n",
       "    <tr>\n",
       "      <th>1</th>\n",
       "      <td>강화군</td>\n",
       "      <td>종합병원</td>\n",
       "      <td>비에스종합병원</td>\n",
       "      <td>인천광역시 강화군 강화읍 충렬사로 31</td>\n",
       "      <td>74.0</td>\n",
       "      <td>266</td>\n",
       "      <td>내과,외과,정형외과,신경외과,흉부외과,마취통증의학과,산부인과,소아청소년과,안과,비뇨...</td>\n",
       "      <td>NaN</td>\n",
       "    </tr>\n",
       "    <tr>\n",
       "      <th>2</th>\n",
       "      <td>강화군</td>\n",
       "      <td>병원</td>\n",
       "      <td>강화병원</td>\n",
       "      <td>인천광역시 강화군 강화읍 강화대로312번길 11</td>\n",
       "      <td>24.0</td>\n",
       "      <td>98</td>\n",
       "      <td>가정의학과 영상의학과 비뇨의학과 소아청소년과 정형외과 외과 내과 산부인과 영상의학과...</td>\n",
       "      <td>NaN</td>\n",
       "    </tr>\n",
       "    <tr>\n",
       "      <th>3</th>\n",
       "      <td>강화군</td>\n",
       "      <td>정신병원</td>\n",
       "      <td>해주병원</td>\n",
       "      <td>인천광역시 강화군 하점면 창후로 286</td>\n",
       "      <td>33.0</td>\n",
       "      <td>180</td>\n",
       "      <td>정신건강의학과</td>\n",
       "      <td>NaN</td>\n",
       "    </tr>\n",
       "    <tr>\n",
       "      <th>4</th>\n",
       "      <td>강화군</td>\n",
       "      <td>정신병원</td>\n",
       "      <td>예담병원</td>\n",
       "      <td>인천광역시 강화군 내가면 해안서로 964</td>\n",
       "      <td>16.0</td>\n",
       "      <td>68</td>\n",
       "      <td>정신건강의학과</td>\n",
       "      <td>NaN</td>\n",
       "    </tr>\n",
       "    <tr>\n",
       "      <th>5</th>\n",
       "      <td>강화군</td>\n",
       "      <td>요양병원</td>\n",
       "      <td>의료법인우진의료재단한길병원</td>\n",
       "      <td>인천광역시 강화군 송해면 강화대로 902</td>\n",
       "      <td>12.0</td>\n",
       "      <td>71</td>\n",
       "      <td>이비인후과 내과 외과 비뇨의학과 신경과 가정의학과</td>\n",
       "      <td>NaN</td>\n",
       "    </tr>\n",
       "    <tr>\n",
       "      <th>...</th>\n",
       "      <td>...</td>\n",
       "      <td>...</td>\n",
       "      <td>...</td>\n",
       "      <td>...</td>\n",
       "      <td>...</td>\n",
       "      <td>...</td>\n",
       "      <td>...</td>\n",
       "      <td>...</td>\n",
       "    </tr>\n",
       "    <tr>\n",
       "      <th>3714</th>\n",
       "      <td>연수구</td>\n",
       "      <td>치과병원</td>\n",
       "      <td>22세기서울치과병원</td>\n",
       "      <td>인천광역시 연수구 컨벤시아대로 69, 415호 (송도동, 송도 밀레니엄)</td>\n",
       "      <td>0.0</td>\n",
       "      <td>0</td>\n",
       "      <td>치과보존과 치주과 소아치과 치과교정과 치과보철과 구강악안면외과</td>\n",
       "      <td>NaN</td>\n",
       "    </tr>\n",
       "    <tr>\n",
       "      <th>3715</th>\n",
       "      <td>연수구</td>\n",
       "      <td>치과병원</td>\n",
       "      <td>서울시카고치과병원</td>\n",
       "      <td>인천광역시 연수구 컨벤시아대로 81, 701,704호 (송도동, 드림시티)</td>\n",
       "      <td>0.0</td>\n",
       "      <td>0</td>\n",
       "      <td>예방치과 구강병리과 영상치의학과 구강내과 치과보존과 치주과 소아치과 치과교정과 치과...</td>\n",
       "      <td>NaN</td>\n",
       "    </tr>\n",
       "    <tr>\n",
       "      <th>3716</th>\n",
       "      <td>연수구</td>\n",
       "      <td>한방병원</td>\n",
       "      <td>송도한방병원</td>\n",
       "      <td>인천광역시 연수구  하모니로 158 송도타임스페이스 6층(송도동)</td>\n",
       "      <td>12.0</td>\n",
       "      <td>44</td>\n",
       "      <td>침구과 사상체질과 한방재활의학과 한방신경정신과 한방안·이비인후·피부과 한방소아과 한...</td>\n",
       "      <td>NaN</td>\n",
       "    </tr>\n",
       "    <tr>\n",
       "      <th>3717</th>\n",
       "      <td>연수구</td>\n",
       "      <td>한방병원</td>\n",
       "      <td>자양한방병원</td>\n",
       "      <td>인천광역시 연수구 신송로 154, 4층(송도동)</td>\n",
       "      <td>13.0</td>\n",
       "      <td>39</td>\n",
       "      <td>가정의학과, 한방내과, 한방부인과, 한방소아과, 한방안· 이비인후·피부과, 침구과,...</td>\n",
       "      <td>NaN</td>\n",
       "    </tr>\n",
       "    <tr>\n",
       "      <th>3718</th>\n",
       "      <td>연수구</td>\n",
       "      <td>병원</td>\n",
       "      <td>송도연세병원</td>\n",
       "      <td>인천광역시 연수구 신송로 159-7, 3층~8층 일부(송도동)</td>\n",
       "      <td>26.0</td>\n",
       "      <td>46</td>\n",
       "      <td>내과, 신경과, 외과, 정형외과, 신경외과, 마취통증의학과, 피부과, 영상의학과, ...</td>\n",
       "      <td>NaN</td>\n",
       "    </tr>\n",
       "  </tbody>\n",
       "</table>\n",
       "<p>3718 rows × 8 columns</p>\n",
       "</div>"
      ],
      "text/plain": [
       "      군구명  병원종별           의료기관명                                        소재지  \\\n",
       "연번                                                                           \n",
       "1     강화군  종합병원         비에스종합병원                      인천광역시 강화군 강화읍 충렬사로 31   \n",
       "2     강화군    병원            강화병원                 인천광역시 강화군 강화읍 강화대로312번길 11   \n",
       "3     강화군  정신병원            해주병원                      인천광역시 강화군 하점면 창후로 286   \n",
       "4     강화군  정신병원            예담병원                     인천광역시 강화군 내가면 해안서로 964   \n",
       "5     강화군  요양병원  의료법인우진의료재단한길병원                     인천광역시 강화군 송해면 강화대로 902   \n",
       "...   ...   ...             ...                                        ...   \n",
       "3714  연수구  치과병원      22세기서울치과병원   인천광역시 연수구 컨벤시아대로 69, 415호 (송도동, 송도 밀레니엄)   \n",
       "3715  연수구  치과병원       서울시카고치과병원  인천광역시 연수구 컨벤시아대로 81, 701,704호 (송도동, 드림시티)   \n",
       "3716  연수구  한방병원          송도한방병원       인천광역시 연수구  하모니로 158 송도타임스페이스 6층(송도동)   \n",
       "3717  연수구  한방병원          자양한방병원                 인천광역시 연수구 신송로 154, 4층(송도동)   \n",
       "3718  연수구    병원          송도연세병원         인천광역시 연수구 신송로 159-7, 3층~8층 일부(송도동)   \n",
       "\n",
       "       병실수  병상수                                               진료과목  Unnamed: 8  \n",
       "연번                                                                              \n",
       "1     74.0  266  내과,외과,정형외과,신경외과,흉부외과,마취통증의학과,산부인과,소아청소년과,안과,비뇨...         NaN  \n",
       "2     24.0   98  가정의학과 영상의학과 비뇨의학과 소아청소년과 정형외과 외과 내과 산부인과 영상의학과...         NaN  \n",
       "3     33.0  180                                            정신건강의학과         NaN  \n",
       "4     16.0   68                                            정신건강의학과         NaN  \n",
       "5     12.0   71                        이비인후과 내과 외과 비뇨의학과 신경과 가정의학과         NaN  \n",
       "...    ...  ...                                                ...         ...  \n",
       "3714   0.0    0                 치과보존과 치주과 소아치과 치과교정과 치과보철과 구강악안면외과         NaN  \n",
       "3715   0.0    0  예방치과 구강병리과 영상치의학과 구강내과 치과보존과 치주과 소아치과 치과교정과 치과...         NaN  \n",
       "3716  12.0   44  침구과 사상체질과 한방재활의학과 한방신경정신과 한방안·이비인후·피부과 한방소아과 한...         NaN  \n",
       "3717  13.0   39  가정의학과, 한방내과, 한방부인과, 한방소아과, 한방안· 이비인후·피부과, 침구과,...         NaN  \n",
       "3718  26.0   46  내과, 신경과, 외과, 정형외과, 신경외과, 마취통증의학과, 피부과, 영상의학과, ...         NaN  \n",
       "\n",
       "[3718 rows x 8 columns]"
      ]
     },
     "execution_count": 5,
     "metadata": {},
     "output_type": "execute_result"
    }
   ],
   "source": [
    "df"
   ]
  },
  {
   "cell_type": "code",
   "execution_count": 6,
   "id": "d7144d1c",
   "metadata": {},
   "outputs": [
    {
     "data": {
      "text/plain": [
       "군구명              0\n",
       "병원종별             0\n",
       "의료기관명            0\n",
       "소재지              0\n",
       "병실수             27\n",
       "병상수              0\n",
       "진료과목            25\n",
       "Unnamed: 8    3627\n",
       "dtype: int64"
      ]
     },
     "execution_count": 6,
     "metadata": {},
     "output_type": "execute_result"
    }
   ],
   "source": [
    "df.isna().sum()"
   ]
  },
  {
   "cell_type": "code",
   "execution_count": 9,
   "id": "310a6674",
   "metadata": {},
   "outputs": [],
   "source": [
    "df=df.drop('Unnamed: 8',axis=1)"
   ]
  },
  {
   "cell_type": "code",
   "execution_count": 11,
   "id": "bf534a33",
   "metadata": {},
   "outputs": [],
   "source": [
    "df=df.dropna()"
   ]
  },
  {
   "cell_type": "code",
   "execution_count": 13,
   "id": "535b468d",
   "metadata": {},
   "outputs": [
    {
     "data": {
      "text/plain": [
       "군구명      0\n",
       "병원종별     0\n",
       "의료기관명    0\n",
       "소재지      0\n",
       "병실수      0\n",
       "병상수      0\n",
       "진료과목     0\n",
       "dtype: int64"
      ]
     },
     "execution_count": 13,
     "metadata": {},
     "output_type": "execute_result"
    }
   ],
   "source": [
    "df.isna().sum()"
   ]
  },
  {
   "cell_type": "code",
   "execution_count": 14,
   "id": "c5c23fab",
   "metadata": {},
   "outputs": [
    {
     "data": {
      "text/plain": [
       "10"
      ]
     },
     "execution_count": 14,
     "metadata": {},
     "output_type": "execute_result"
    }
   ],
   "source": [
    "df['군구명'].nunique()"
   ]
  },
  {
   "cell_type": "code",
   "execution_count": 15,
   "id": "341d1383",
   "metadata": {},
   "outputs": [
    {
     "data": {
      "text/plain": [
       "array(['강화군', '옹진군', '중구', '동구', '미추홀구', '연수구', '남동구', '부평구', '계양구', '서구'],\n",
       "      dtype=object)"
      ]
     },
     "execution_count": 15,
     "metadata": {},
     "output_type": "execute_result"
    }
   ],
   "source": [
    "df['군구명'].unique()"
   ]
  },
  {
   "cell_type": "code",
   "execution_count": 16,
   "id": "cf1c55f8",
   "metadata": {},
   "outputs": [
    {
     "data": {
      "text/plain": [
       "연번\n",
       "1       강화군\n",
       "2       강화군\n",
       "3       강화군\n",
       "4       강화군\n",
       "5       강화군\n",
       "       ... \n",
       "3714    연수구\n",
       "3715    연수구\n",
       "3716    연수구\n",
       "3717    연수구\n",
       "3718    연수구\n",
       "Name: 군구명, Length: 3666, dtype: object"
      ]
     },
     "execution_count": 16,
     "metadata": {},
     "output_type": "execute_result"
    }
   ],
   "source": [
    "df['군구명']"
   ]
  },
  {
   "cell_type": "code",
   "execution_count": null,
   "id": "6af1dbd4",
   "metadata": {},
   "outputs": [],
   "source": []
  },
  {
   "cell_type": "code",
   "execution_count": null,
   "id": "dead62f7",
   "metadata": {},
   "outputs": [],
   "source": []
  },
  {
   "cell_type": "code",
   "execution_count": null,
   "id": "8d221328",
   "metadata": {},
   "outputs": [],
   "source": []
  }
 ],
 "metadata": {
  "kernelspec": {
   "display_name": "Python 3 (ipykernel)",
   "language": "python",
   "name": "python3"
  },
  "language_info": {
   "codemirror_mode": {
    "name": "ipython",
    "version": 3
   },
   "file_extension": ".py",
   "mimetype": "text/x-python",
   "name": "python",
   "nbconvert_exporter": "python",
   "pygments_lexer": "ipython3",
   "version": "3.11.5"
  }
 },
 "nbformat": 4,
 "nbformat_minor": 5
}
